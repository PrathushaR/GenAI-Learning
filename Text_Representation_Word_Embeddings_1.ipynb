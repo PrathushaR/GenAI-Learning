{
  "nbformat": 4,
  "nbformat_minor": 0,
  "metadata": {
    "colab": {
      "provenance": [],
      "authorship_tag": "ABX9TyN18Nf7OiEplwyaZu6XrD6G",
      "include_colab_link": true
    },
    "kernelspec": {
      "name": "python3",
      "display_name": "Python 3"
    },
    "language_info": {
      "name": "python"
    }
  },
  "cells": [
    {
      "cell_type": "markdown",
      "metadata": {
        "id": "view-in-github",
        "colab_type": "text"
      },
      "source": [
        "<a href=\"https://colab.research.google.com/github/PrathushaR/GenAI-Learning/blob/master/Text_Representation_Word_Embeddings_1.ipynb\" target=\"_parent\"><img src=\"https://colab.research.google.com/assets/colab-badge.svg\" alt=\"Open In Colab\"/></a>"
      ]
    },
    {
      "cell_type": "markdown",
      "source": [
        "## Bag of words"
      ],
      "metadata": {
        "id": "w3Lz1Eu0Q8MK"
      }
    },
    {
      "cell_type": "code",
      "execution_count": null,
      "metadata": {
        "id": "Mx3KSxVxQqKy"
      },
      "outputs": [],
      "source": [
        "# prompt: import pandas and numpy\n",
        "\n",
        "import pandas as pd\n",
        "import numpy as np\n",
        "# Example usage (you can remove this)\n",
        "df = pd.DataFrame({\"text\":[\"people watch dswithbappy\",\n",
        "                         \"dswithbappy watch dswithbappy\",\n",
        "                         \"people write comment\",\n",
        "                          \"dswithbappy write comment\"],\"output\":[1,1,0,0]})\n",
        "\n",
        "df\n"
      ]
    },
    {
      "cell_type": "code",
      "source": [
        "# prompt: import countvectorizer and instantiate. Use that to convert df text to fit transform\n",
        "\n",
        "from sklearn.feature_extraction.text import CountVectorizer\n",
        "\n",
        "# Create a CountVectorizer object\n",
        "vectorizer = CountVectorizer()\n",
        "\n",
        "# Fit and transform the text data\n",
        "bow = vectorizer.fit_transform(df['text'])\n",
        "\n",
        "# Print the feature names (vocabulary)\n",
        "print(vectorizer.vocabulary_)\n",
        "\n",
        "# Print the transformed data (document-term matrix)\n",
        "print(bow.toarray())"
      ],
      "metadata": {
        "id": "uKN41AAwRDZa"
      },
      "execution_count": null,
      "outputs": []
    },
    {
      "cell_type": "code",
      "source": [
        "print(bow[0].toarray())\n",
        "print(bow[1].toarray())\n",
        "print(bow[2].toarray())"
      ],
      "metadata": {
        "id": "tf2OwtjWRsst"
      },
      "execution_count": null,
      "outputs": []
    },
    {
      "cell_type": "code",
      "source": [
        "vectorizer.transform(['Bappy watch dswithbappy']).toarray()"
      ],
      "metadata": {
        "id": "PNlGW-7eSdJd"
      },
      "execution_count": null,
      "outputs": []
    },
    {
      "cell_type": "code",
      "source": [
        "X = bow.toarray()\n",
        "y = df['output']\n",
        "print(X)\n",
        "print(y)"
      ],
      "metadata": {
        "id": "qEnPDQlNSqxG"
      },
      "execution_count": null,
      "outputs": []
    },
    {
      "cell_type": "markdown",
      "source": [
        "## Ngram"
      ],
      "metadata": {
        "id": "F61JRqbjS7hW"
      }
    },
    {
      "cell_type": "code",
      "source": [
        "import pandas as pd\n",
        "import numpy as np\n",
        "# Example usage (you can remove this)\n",
        "df = pd.DataFrame({\"text\":[\"people watch dswithbappy\",\n",
        "                         \"dswithbappy watch dswithbappy\",\n",
        "                         \"people write comment\",\n",
        "                          \"dswithbappy write comment\"],\"output\":[1,1,0,0]})\n",
        "\n",
        "from sklearn.feature_extraction.text import CountVectorizer\n",
        "ncv = CountVectorizer(ngram_range=(2,2))\n",
        "bow = ncv.fit_transform(df['text'])\n",
        "print(ncv.vocabulary_)\n",
        "print(bow[0].toarray())\n",
        "print(bow[1].toarray())\n",
        "print(bow[2].toarray())"
      ],
      "metadata": {
        "id": "EuZy-LQAS-JN"
      },
      "execution_count": null,
      "outputs": []
    },
    {
      "cell_type": "code",
      "source": [
        "# prompt: Generate same code for ngram 3,3\n",
        "\n",
        "import pandas as pd\n",
        "import numpy as np\n",
        "from sklearn.feature_extraction.text import CountVectorizer\n",
        "\n",
        "# Example usage (you can remove this)\n",
        "df = pd.DataFrame({\"text\":[\"people watch dswithbappy\",\n",
        "                         \"dswithbappy watch dswithbappy\",\n",
        "                         \"people write comment\",\n",
        "                          \"dswithbappy write comment\"],\"output\":[1,1,0,0]})\n",
        "\n",
        "# Ngram\n",
        "# Example usage (you can remove this)\n",
        "ncv = CountVectorizer(ngram_range=(3,3))\n",
        "bow = ncv.fit_transform(df['text'])\n",
        "print(ncv.vocabulary_)\n",
        "print(bow[0].toarray())\n",
        "print(bow[1].toarray())\n",
        "print(bow[2].toarray())"
      ],
      "metadata": {
        "id": "MDLfERLiTb13"
      },
      "execution_count": null,
      "outputs": []
    },
    {
      "cell_type": "markdown",
      "source": [
        "## TF-DIF (Term frequency- Inverse document frequency)"
      ],
      "metadata": {
        "id": "QW8Li4HITqC8"
      }
    },
    {
      "cell_type": "code",
      "source": [
        "# prompt: vectorize using tfid\n",
        "\n",
        "from sklearn.feature_extraction.text import TfidfVectorizer\n",
        "\n",
        "# Example usage (you can remove this)\n",
        "df = pd.DataFrame({\"text\":[\"people watch dswithbappy\",\n",
        "                         \"dswithbappy watch dswithbappy\",\n",
        "                         \"people write comment\",\n",
        "                          \"dswithbappy write comment\"],\"output\":[1,1,0,0]})\n",
        "\n",
        "tfidf = TfidfVectorizer()\n",
        "tfidf_matrix = tfidf.fit_transform(df['text'])\n",
        "\n",
        "print(tfidf.vocabulary_)\n",
        "print(tfidf_matrix.toarray())"
      ],
      "metadata": {
        "id": "7tmuZGCpXAwM"
      },
      "execution_count": null,
      "outputs": []
    }
  ]
}