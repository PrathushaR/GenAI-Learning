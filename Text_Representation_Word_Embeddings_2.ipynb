{
  "nbformat": 4,
  "nbformat_minor": 0,
  "metadata": {
    "colab": {
      "provenance": [],
      "toc_visible": true,
      "mount_file_id": "1KP_rUmYZtYKO_KRTcUrtyy0dREt9E7Xc",
      "authorship_tag": "ABX9TyOixUs6uk4x8i3Gcf8kuP6e",
      "include_colab_link": true
    },
    "kernelspec": {
      "name": "python3",
      "display_name": "Python 3"
    },
    "language_info": {
      "name": "python"
    }
  },
  "cells": [
    {
      "cell_type": "markdown",
      "metadata": {
        "id": "view-in-github",
        "colab_type": "text"
      },
      "source": [
        "<a href=\"https://colab.research.google.com/github/PrathushaR/GenAI-Learning/blob/master/Text_Representation_Word_Embeddings_2.ipynb\" target=\"_parent\"><img src=\"https://colab.research.google.com/assets/colab-badge.svg\" alt=\"Open In Colab\"/></a>"
      ]
    },
    {
      "cell_type": "markdown",
      "source": [
        "## Word2vec"
      ],
      "metadata": {
        "id": "8n25Q_F_8iA1"
      }
    },
    {
      "cell_type": "code",
      "execution_count": null,
      "metadata": {
        "id": "SSVFpt1i8XVh"
      },
      "outputs": [],
      "source": [
        "# prompt: import pandas, gensim, os , numpy and upgrade gensim\n",
        "\n",
        "!pip install --upgrade gensim\n",
        "import pandas as pd\n",
        "import gensim\n",
        "import os\n",
        "import numpy as np\n",
        "# ## Word2vec"
      ]
    },
    {
      "cell_type": "code",
      "source": [
        "from nltk import sent_tokenize\n",
        "from gensim.utils import simple_preprocess\n",
        "import nltk\n",
        "nltk.download('punkt')\n",
        "nltk.download('punkt_tab')\n",
        "from gensim.models import Word2Vec"
      ],
      "metadata": {
        "colab": {
          "base_uri": "https://localhost:8080/"
        },
        "id": "QXVBA7uJ857f",
        "outputId": "5605dcba-361a-4640-c7d1-d2ce1c703583"
      },
      "execution_count": null,
      "outputs": [
        {
          "output_type": "stream",
          "name": "stderr",
          "text": [
            "[nltk_data] Downloading package punkt to /root/nltk_data...\n",
            "[nltk_data]   Unzipping tokenizers/punkt.zip.\n",
            "[nltk_data] Downloading package punkt_tab to /root/nltk_data...\n",
            "[nltk_data]   Unzipping tokenizers/punkt_tab.zip.\n"
          ]
        }
      ]
    },
    {
      "cell_type": "code",
      "source": [
        "# prompt: Read from got.txt under data folder and tokenize it with sent_tokenize\n",
        "\n",
        "# Assuming 'got.txt' is in a 'data' folder in the current working directory.\n",
        "# If the file is in a different location, adjust the path accordingly.\n",
        "data_folder = 'data'  # You may need to change this if the data folder is elsewhere\n",
        "file_path = os.path.join(data_folder, 'got.txt')\n",
        "story = []\n",
        "\n",
        "try:\n",
        "    with open(file_path, 'r', encoding='utf-8') as file:\n",
        "        text = file.read()\n",
        "        sentences = sent_tokenize(text)\n",
        "        for sentence in sentences:\n",
        "          story.append(simple_preprocess(sentence))\n",
        "\n",
        "except FileNotFoundError:\n",
        "    print(f\"Error: File '{file_path}' not found.\")\n",
        "except Exception as e:\n",
        "    print(f\"An error occurred: {e}\")"
      ],
      "metadata": {
        "id": "4t2iTp4LcHtQ"
      },
      "execution_count": null,
      "outputs": []
    },
    {
      "cell_type": "code",
      "source": [
        "story"
      ],
      "metadata": {
        "id": "SgWpn_rhkVOw"
      },
      "execution_count": null,
      "outputs": []
    },
    {
      "cell_type": "code",
      "source": [
        "len(story)"
      ],
      "metadata": {
        "colab": {
          "base_uri": "https://localhost:8080/"
        },
        "id": "vOov_doXkfpG",
        "outputId": "0fa3cde3-3eb1-4f43-d4c0-84af0499dd9a"
      },
      "execution_count": null,
      "outputs": [
        {
          "output_type": "execute_result",
          "data": {
            "text/plain": [
              "8602"
            ]
          },
          "metadata": {},
          "execution_count": 8
        }
      ]
    },
    {
      "cell_type": "code",
      "source": [
        "# prompt: Initialize gensim model\n",
        "\n",
        "model = Word2Vec(window=10, min_count=2, workers=4)\n",
        "model.build_vocab(story)\n",
        "model.train(story, total_examples=model.corpus_count, epochs=model.epochs)\n",
        "# model\n"
      ],
      "metadata": {
        "id": "DjGKRl5hkphr",
        "colab": {
          "base_uri": "https://localhost:8080/"
        },
        "outputId": "d1525bee-63c0-465a-d18b-221fde92239c"
      },
      "execution_count": null,
      "outputs": [
        {
          "output_type": "execute_result",
          "data": {
            "text/plain": [
              "(322746, 447775)"
            ]
          },
          "metadata": {},
          "execution_count": 11
        }
      ]
    },
    {
      "cell_type": "code",
      "source": [
        "model.wv.most_similar('daenerys')"
      ],
      "metadata": {
        "colab": {
          "base_uri": "https://localhost:8080/"
        },
        "id": "d0by2PGQvARz",
        "outputId": "f1663688-763f-4eec-a855-4e325885dea0"
      },
      "execution_count": null,
      "outputs": [
        {
          "output_type": "execute_result",
          "data": {
            "text/plain": [
              "[('still', 0.9990449547767639),\n",
              " ('then', 0.9989672899246216),\n",
              " ('deep', 0.9989627003669739),\n",
              " ('an', 0.998948335647583),\n",
              " ('fire', 0.9989386200904846),\n",
              " ('dothraki', 0.9989169836044312),\n",
              " ('castle', 0.9989116787910461),\n",
              " ('prince', 0.9989099502563477),\n",
              " ('while', 0.998905599117279),\n",
              " ('two', 0.9989015460014343)]"
            ]
          },
          "metadata": {},
          "execution_count": 15
        }
      ]
    },
    {
      "cell_type": "code",
      "source": [
        "model.wv.similarity('arya', 'rhaegar')"
      ],
      "metadata": {
        "colab": {
          "base_uri": "https://localhost:8080/"
        },
        "id": "PNohxs59vci5",
        "outputId": "9aca3ecf-bad8-4d0e-b15d-bb0e7ca35e9c"
      },
      "execution_count": null,
      "outputs": [
        {
          "output_type": "execute_result",
          "data": {
            "text/plain": [
              "0.99880826"
            ]
          },
          "metadata": {},
          "execution_count": 26
        }
      ]
    },
    {
      "cell_type": "code",
      "source": [
        "model.wv['deep'].shape"
      ],
      "metadata": {
        "colab": {
          "base_uri": "https://localhost:8080/"
        },
        "id": "EGwfjlYiwLY4",
        "outputId": "78eaa6cd-0991-48aa-af0b-ce3f0160112c"
      },
      "execution_count": null,
      "outputs": [
        {
          "output_type": "execute_result",
          "data": {
            "text/plain": [
              "(100,)"
            ]
          },
          "metadata": {},
          "execution_count": 27
        }
      ]
    },
    {
      "cell_type": "code",
      "source": [
        "vector = model.wv.get_normed_vectors()\n",
        "vector"
      ],
      "metadata": {
        "id": "EF7Gkor8wSOt"
      },
      "execution_count": null,
      "outputs": []
    },
    {
      "cell_type": "code",
      "source": [
        "from sklearn.decomposition import PCA\n",
        "pca = PCA(n_components=3)\n",
        "result = pca.fit_transform(vector)\n",
        "result\n",
        "result.shape"
      ],
      "metadata": {
        "colab": {
          "base_uri": "https://localhost:8080/"
        },
        "id": "2-fL81WDwyfr",
        "outputId": "1d519bce-798c-4482-ddc2-efde66030df3"
      },
      "execution_count": null,
      "outputs": [
        {
          "output_type": "execute_result",
          "data": {
            "text/plain": [
              "(3840, 3)"
            ]
          },
          "metadata": {},
          "execution_count": 31
        }
      ]
    },
    {
      "cell_type": "code",
      "source": [
        "import plotly.express as px\n",
        "fig = px.scatter_3d(result[200:300], x=0, y=1, z=2, color=result[200:300,1])\n",
        "fig.show()"
      ],
      "metadata": {
        "id": "bLFrixPNxJTV",
        "outputId": "cbae6edf-ab7a-4b2d-d12b-91430de5e885",
        "colab": {
          "base_uri": "https://localhost:8080/",
          "height": 542
        }
      },
      "execution_count": 38,
      "outputs": [
        {
          "output_type": "display_data",
          "data": {
            "text/html": [
              "<html>\n",
              "<head><meta charset=\"utf-8\" /></head>\n",
              "<body>\n",
              "    <div>            <script src=\"https://cdnjs.cloudflare.com/ajax/libs/mathjax/2.7.5/MathJax.js?config=TeX-AMS-MML_SVG\"></script><script type=\"text/javascript\">if (window.MathJax && window.MathJax.Hub && window.MathJax.Hub.Config) {window.MathJax.Hub.Config({SVG: {font: \"STIX-Web\"}});}</script>                <script type=\"text/javascript\">window.PlotlyConfig = {MathJaxConfig: 'local'};</script>\n",
              "        <script charset=\"utf-8\" src=\"https://cdn.plot.ly/plotly-2.35.2.min.js\"></script>                <div id=\"cd2571bd-9922-45a0-bf20-4b0e6769050f\" class=\"plotly-graph-div\" style=\"height:525px; width:100%;\"></div>            <script type=\"text/javascript\">                                    window.PLOTLYENV=window.PLOTLYENV || {};                                    if (document.getElementById(\"cd2571bd-9922-45a0-bf20-4b0e6769050f\")) {                    Plotly.newPlot(                        \"cd2571bd-9922-45a0-bf20-4b0e6769050f\",                        [{\"hovertemplate\":\"0=%{x}\\u003cbr\\u003e1=%{y}\\u003cbr\\u003e2=%{z}\\u003cbr\\u003ecolor=%{marker.color}\\u003cextra\\u003e\\u003c\\u002fextra\\u003e\",\"legendgroup\":\"\",\"marker\":{\"color\":[-0.015530262,0.048198994,0.0019270703,0.0006387904,0.032668196,-0.037442822,0.0705692,0.0032799616,0.053858675,0.06988354,0.02454446,-0.054117743,-0.0010750778,-0.02409276,0.041441828,0.05676562,0.06162793,-0.041803632,0.021358188,0.035514917,0.061705414,0.010253899,-0.014646936,-0.00023287907,-0.03447279,0.004839372,-0.027093556,0.034237027,-0.03012735,0.028700572,-0.015502837,-0.05212153,-0.031667214,-0.01043712,-0.03343432,-0.03193484,-0.011663634,-0.079715505,0.044454787,-0.0068865158,-0.063430265,0.03587326,0.05112504,-0.017528076,-0.011335392,-0.016225617,-0.014562424,0.050207764,-0.0015259087,0.033542395,0.038883414,-0.0002137199,-0.05998068,0.018155038,0.021414042,0.014334891,-0.002812449,-0.0019394159,0.02492415,-0.026802246,0.052217294,-0.015141066,-0.03545833,0.02580029,-0.0031225532,0.022782147,-0.0017567463,0.018535674,-0.024019968,-0.02634075,0.04776567,0.06037818,-0.02154116,-0.004551124,-0.043401744,-0.041710462,0.11341667,0.0023913085,0.015520189,0.025663463,-0.014180701,0.042202655,0.015069142,-0.009362824,0.088902384,0.0027286895,0.019410726,-0.017886978,-0.008870993,-0.04842603,-0.029754382,0.059287436,0.032068476,-0.024057087,0.046168365,0.02078814,-0.02035166,-0.029442478,-0.020267468,0.051674224],\"coloraxis\":\"coloraxis\",\"symbol\":\"circle\"},\"mode\":\"markers\",\"name\":\"\",\"scene\":\"scene\",\"showlegend\":false,\"x\":[-0.049745977,-0.052619398,-0.0513466,-0.051358044,-0.052402437,-0.04818988,-0.052253246,-0.0510934,-0.053086042,-0.052664638,-0.05218655,-0.0463202,-0.05065477,-0.049044073,-0.05267769,-0.052556098,-0.05266601,-0.047302067,-0.051537395,-0.05175537,-0.05225551,-0.05137652,-0.049735487,-0.050633013,-0.048534572,-0.051668644,-0.04929906,-0.052162528,-0.04883021,-0.051813483,-0.049889147,-0.04611641,-0.04917711,-0.049862087,-0.04840684,-0.047920525,-0.049744725,-0.0428074,-0.053030252,-0.051041722,-0.044968247,-0.052753747,-0.05215794,-0.04972154,-0.050026357,-0.049983025,-0.050145626,-0.052098274,-0.05079168,-0.051999986,-0.052636623,-0.05107814,-0.04571855,-0.049654484,-0.05164951,-0.05181563,-0.05088383,-0.050663292,-0.0520252,-0.048826933,-0.052703977,-0.04981476,-0.04769343,-0.051985443,-0.050852835,-0.051753044,-0.050887704,-0.051886976,-0.04907781,-0.04877001,-0.052826285,-0.052671313,-0.049199045,-0.05072093,-0.04721415,-0.047545373,-0.050788105,-0.050555706,-0.051571548,-0.05140221,-0.049971163,-0.051772833,-0.051921427,-0.049786925,-0.05204326,-0.0501523,-0.051372647,-0.049723625,-0.049712718,-0.04646045,-0.048373222,-0.05248481,-0.05225742,-0.048357785,-0.051734447,-0.051849067,-0.049589396,-0.04882711,-0.049579978,-0.052468777],\"y\":[-0.015530262,0.048198994,0.0019270703,0.0006387904,0.032668196,-0.037442822,0.0705692,0.0032799616,0.053858675,0.06988354,0.02454446,-0.054117743,-0.0010750778,-0.02409276,0.041441828,0.05676562,0.06162793,-0.041803632,0.021358188,0.035514917,0.061705414,0.010253899,-0.014646936,-0.00023287907,-0.03447279,0.004839372,-0.027093556,0.034237027,-0.03012735,0.028700572,-0.015502837,-0.05212153,-0.031667214,-0.01043712,-0.03343432,-0.03193484,-0.011663634,-0.079715505,0.044454787,-0.0068865158,-0.063430265,0.03587326,0.05112504,-0.017528076,-0.011335392,-0.016225617,-0.014562424,0.050207764,-0.0015259087,0.033542395,0.038883414,-0.0002137199,-0.05998068,0.018155038,0.021414042,0.014334891,-0.002812449,-0.0019394159,0.02492415,-0.026802246,0.052217294,-0.015141066,-0.03545833,0.02580029,-0.0031225532,0.022782147,-0.0017567463,0.018535674,-0.024019968,-0.02634075,0.04776567,0.06037818,-0.02154116,-0.004551124,-0.043401744,-0.041710462,0.11341667,0.0023913085,0.015520189,0.025663463,-0.014180701,0.042202655,0.015069142,-0.009362824,0.088902384,0.0027286895,0.019410726,-0.017886978,-0.008870993,-0.04842603,-0.029754382,0.059287436,0.032068476,-0.024057087,0.046168365,0.02078814,-0.02035166,-0.029442478,-0.020267468,0.051674224],\"z\":[0.001515355,0.00067412015,-0.003647022,-0.0017336048,-0.0034068367,-0.0017666714,-0.0063504428,0.003695786,-0.0029792143,0.0007732399,0.0015134215,-0.00069162715,-0.002924229,-0.001741698,0.0012977514,0.003619654,0.0007444918,0.00084075145,0.00069575384,-0.0002744943,0.0005399585,-0.000737831,0.00031492207,0.0014532031,0.0011156853,-0.00044594985,-0.000612312,-0.0057351803,-0.0011806563,0.0044109747,0.0020154752,-0.0025661206,0.00089416653,0.0005449569,0.00007606298,0.0026567634,-0.000101206824,0.0008503543,0.002008183,0.0010947473,0.00016745832,-0.0037105512,0.00064026006,0.0012480756,0.003835734,-0.00068221707,0.0024098344,0.0052323584,0.000864557,0.0026164018,-0.0044938102,-0.0021454887,-0.000885034,0.00463086,0.0029240604,0.0037176087,-0.0056622783,-0.0018813536,0.0028621461,-0.00080070086,-0.00027468055,0.00079001766,0.0012321724,-0.0029029986,-0.0023779515,-0.0006847,-0.0019217636,-0.003833252,-0.0012885369,-0.0006111143,0.00023151934,0.0014754143,-0.0039685704,-0.0008607041,0.0012952238,-0.0016124966,-0.0027715387,0.0017140256,0.002668267,-0.00039436668,-0.000893943,-0.007837197,-0.0042234743,-0.0008652387,-0.003797724,-0.00031524058,-0.0023594378,0.00034355186,-0.00070824753,0.0014390871,0.005820038,-0.00083242357,-0.005612081,-0.003455896,-0.0010173162,-0.0017629825,-0.0048807235,-0.0004303474,0.0013054004,0.00188105],\"type\":\"scatter3d\"}],                        {\"template\":{\"data\":{\"histogram2dcontour\":[{\"type\":\"histogram2dcontour\",\"colorbar\":{\"outlinewidth\":0,\"ticks\":\"\"},\"colorscale\":[[0.0,\"#0d0887\"],[0.1111111111111111,\"#46039f\"],[0.2222222222222222,\"#7201a8\"],[0.3333333333333333,\"#9c179e\"],[0.4444444444444444,\"#bd3786\"],[0.5555555555555556,\"#d8576b\"],[0.6666666666666666,\"#ed7953\"],[0.7777777777777778,\"#fb9f3a\"],[0.8888888888888888,\"#fdca26\"],[1.0,\"#f0f921\"]]}],\"choropleth\":[{\"type\":\"choropleth\",\"colorbar\":{\"outlinewidth\":0,\"ticks\":\"\"}}],\"histogram2d\":[{\"type\":\"histogram2d\",\"colorbar\":{\"outlinewidth\":0,\"ticks\":\"\"},\"colorscale\":[[0.0,\"#0d0887\"],[0.1111111111111111,\"#46039f\"],[0.2222222222222222,\"#7201a8\"],[0.3333333333333333,\"#9c179e\"],[0.4444444444444444,\"#bd3786\"],[0.5555555555555556,\"#d8576b\"],[0.6666666666666666,\"#ed7953\"],[0.7777777777777778,\"#fb9f3a\"],[0.8888888888888888,\"#fdca26\"],[1.0,\"#f0f921\"]]}],\"heatmap\":[{\"type\":\"heatmap\",\"colorbar\":{\"outlinewidth\":0,\"ticks\":\"\"},\"colorscale\":[[0.0,\"#0d0887\"],[0.1111111111111111,\"#46039f\"],[0.2222222222222222,\"#7201a8\"],[0.3333333333333333,\"#9c179e\"],[0.4444444444444444,\"#bd3786\"],[0.5555555555555556,\"#d8576b\"],[0.6666666666666666,\"#ed7953\"],[0.7777777777777778,\"#fb9f3a\"],[0.8888888888888888,\"#fdca26\"],[1.0,\"#f0f921\"]]}],\"heatmapgl\":[{\"type\":\"heatmapgl\",\"colorbar\":{\"outlinewidth\":0,\"ticks\":\"\"},\"colorscale\":[[0.0,\"#0d0887\"],[0.1111111111111111,\"#46039f\"],[0.2222222222222222,\"#7201a8\"],[0.3333333333333333,\"#9c179e\"],[0.4444444444444444,\"#bd3786\"],[0.5555555555555556,\"#d8576b\"],[0.6666666666666666,\"#ed7953\"],[0.7777777777777778,\"#fb9f3a\"],[0.8888888888888888,\"#fdca26\"],[1.0,\"#f0f921\"]]}],\"contourcarpet\":[{\"type\":\"contourcarpet\",\"colorbar\":{\"outlinewidth\":0,\"ticks\":\"\"}}],\"contour\":[{\"type\":\"contour\",\"colorbar\":{\"outlinewidth\":0,\"ticks\":\"\"},\"colorscale\":[[0.0,\"#0d0887\"],[0.1111111111111111,\"#46039f\"],[0.2222222222222222,\"#7201a8\"],[0.3333333333333333,\"#9c179e\"],[0.4444444444444444,\"#bd3786\"],[0.5555555555555556,\"#d8576b\"],[0.6666666666666666,\"#ed7953\"],[0.7777777777777778,\"#fb9f3a\"],[0.8888888888888888,\"#fdca26\"],[1.0,\"#f0f921\"]]}],\"surface\":[{\"type\":\"surface\",\"colorbar\":{\"outlinewidth\":0,\"ticks\":\"\"},\"colorscale\":[[0.0,\"#0d0887\"],[0.1111111111111111,\"#46039f\"],[0.2222222222222222,\"#7201a8\"],[0.3333333333333333,\"#9c179e\"],[0.4444444444444444,\"#bd3786\"],[0.5555555555555556,\"#d8576b\"],[0.6666666666666666,\"#ed7953\"],[0.7777777777777778,\"#fb9f3a\"],[0.8888888888888888,\"#fdca26\"],[1.0,\"#f0f921\"]]}],\"mesh3d\":[{\"type\":\"mesh3d\",\"colorbar\":{\"outlinewidth\":0,\"ticks\":\"\"}}],\"scatter\":[{\"fillpattern\":{\"fillmode\":\"overlay\",\"size\":10,\"solidity\":0.2},\"type\":\"scatter\"}],\"parcoords\":[{\"type\":\"parcoords\",\"line\":{\"colorbar\":{\"outlinewidth\":0,\"ticks\":\"\"}}}],\"scatterpolargl\":[{\"type\":\"scatterpolargl\",\"marker\":{\"colorbar\":{\"outlinewidth\":0,\"ticks\":\"\"}}}],\"bar\":[{\"error_x\":{\"color\":\"#2a3f5f\"},\"error_y\":{\"color\":\"#2a3f5f\"},\"marker\":{\"line\":{\"color\":\"#E5ECF6\",\"width\":0.5},\"pattern\":{\"fillmode\":\"overlay\",\"size\":10,\"solidity\":0.2}},\"type\":\"bar\"}],\"scattergeo\":[{\"type\":\"scattergeo\",\"marker\":{\"colorbar\":{\"outlinewidth\":0,\"ticks\":\"\"}}}],\"scatterpolar\":[{\"type\":\"scatterpolar\",\"marker\":{\"colorbar\":{\"outlinewidth\":0,\"ticks\":\"\"}}}],\"histogram\":[{\"marker\":{\"pattern\":{\"fillmode\":\"overlay\",\"size\":10,\"solidity\":0.2}},\"type\":\"histogram\"}],\"scattergl\":[{\"type\":\"scattergl\",\"marker\":{\"colorbar\":{\"outlinewidth\":0,\"ticks\":\"\"}}}],\"scatter3d\":[{\"type\":\"scatter3d\",\"line\":{\"colorbar\":{\"outlinewidth\":0,\"ticks\":\"\"}},\"marker\":{\"colorbar\":{\"outlinewidth\":0,\"ticks\":\"\"}}}],\"scattermapbox\":[{\"type\":\"scattermapbox\",\"marker\":{\"colorbar\":{\"outlinewidth\":0,\"ticks\":\"\"}}}],\"scatterternary\":[{\"type\":\"scatterternary\",\"marker\":{\"colorbar\":{\"outlinewidth\":0,\"ticks\":\"\"}}}],\"scattercarpet\":[{\"type\":\"scattercarpet\",\"marker\":{\"colorbar\":{\"outlinewidth\":0,\"ticks\":\"\"}}}],\"carpet\":[{\"aaxis\":{\"endlinecolor\":\"#2a3f5f\",\"gridcolor\":\"white\",\"linecolor\":\"white\",\"minorgridcolor\":\"white\",\"startlinecolor\":\"#2a3f5f\"},\"baxis\":{\"endlinecolor\":\"#2a3f5f\",\"gridcolor\":\"white\",\"linecolor\":\"white\",\"minorgridcolor\":\"white\",\"startlinecolor\":\"#2a3f5f\"},\"type\":\"carpet\"}],\"table\":[{\"cells\":{\"fill\":{\"color\":\"#EBF0F8\"},\"line\":{\"color\":\"white\"}},\"header\":{\"fill\":{\"color\":\"#C8D4E3\"},\"line\":{\"color\":\"white\"}},\"type\":\"table\"}],\"barpolar\":[{\"marker\":{\"line\":{\"color\":\"#E5ECF6\",\"width\":0.5},\"pattern\":{\"fillmode\":\"overlay\",\"size\":10,\"solidity\":0.2}},\"type\":\"barpolar\"}],\"pie\":[{\"automargin\":true,\"type\":\"pie\"}]},\"layout\":{\"autotypenumbers\":\"strict\",\"colorway\":[\"#636efa\",\"#EF553B\",\"#00cc96\",\"#ab63fa\",\"#FFA15A\",\"#19d3f3\",\"#FF6692\",\"#B6E880\",\"#FF97FF\",\"#FECB52\"],\"font\":{\"color\":\"#2a3f5f\"},\"hovermode\":\"closest\",\"hoverlabel\":{\"align\":\"left\"},\"paper_bgcolor\":\"white\",\"plot_bgcolor\":\"#E5ECF6\",\"polar\":{\"bgcolor\":\"#E5ECF6\",\"angularaxis\":{\"gridcolor\":\"white\",\"linecolor\":\"white\",\"ticks\":\"\"},\"radialaxis\":{\"gridcolor\":\"white\",\"linecolor\":\"white\",\"ticks\":\"\"}},\"ternary\":{\"bgcolor\":\"#E5ECF6\",\"aaxis\":{\"gridcolor\":\"white\",\"linecolor\":\"white\",\"ticks\":\"\"},\"baxis\":{\"gridcolor\":\"white\",\"linecolor\":\"white\",\"ticks\":\"\"},\"caxis\":{\"gridcolor\":\"white\",\"linecolor\":\"white\",\"ticks\":\"\"}},\"coloraxis\":{\"colorbar\":{\"outlinewidth\":0,\"ticks\":\"\"}},\"colorscale\":{\"sequential\":[[0.0,\"#0d0887\"],[0.1111111111111111,\"#46039f\"],[0.2222222222222222,\"#7201a8\"],[0.3333333333333333,\"#9c179e\"],[0.4444444444444444,\"#bd3786\"],[0.5555555555555556,\"#d8576b\"],[0.6666666666666666,\"#ed7953\"],[0.7777777777777778,\"#fb9f3a\"],[0.8888888888888888,\"#fdca26\"],[1.0,\"#f0f921\"]],\"sequentialminus\":[[0.0,\"#0d0887\"],[0.1111111111111111,\"#46039f\"],[0.2222222222222222,\"#7201a8\"],[0.3333333333333333,\"#9c179e\"],[0.4444444444444444,\"#bd3786\"],[0.5555555555555556,\"#d8576b\"],[0.6666666666666666,\"#ed7953\"],[0.7777777777777778,\"#fb9f3a\"],[0.8888888888888888,\"#fdca26\"],[1.0,\"#f0f921\"]],\"diverging\":[[0,\"#8e0152\"],[0.1,\"#c51b7d\"],[0.2,\"#de77ae\"],[0.3,\"#f1b6da\"],[0.4,\"#fde0ef\"],[0.5,\"#f7f7f7\"],[0.6,\"#e6f5d0\"],[0.7,\"#b8e186\"],[0.8,\"#7fbc41\"],[0.9,\"#4d9221\"],[1,\"#276419\"]]},\"xaxis\":{\"gridcolor\":\"white\",\"linecolor\":\"white\",\"ticks\":\"\",\"title\":{\"standoff\":15},\"zerolinecolor\":\"white\",\"automargin\":true,\"zerolinewidth\":2},\"yaxis\":{\"gridcolor\":\"white\",\"linecolor\":\"white\",\"ticks\":\"\",\"title\":{\"standoff\":15},\"zerolinecolor\":\"white\",\"automargin\":true,\"zerolinewidth\":2},\"scene\":{\"xaxis\":{\"backgroundcolor\":\"#E5ECF6\",\"gridcolor\":\"white\",\"linecolor\":\"white\",\"showbackground\":true,\"ticks\":\"\",\"zerolinecolor\":\"white\",\"gridwidth\":2},\"yaxis\":{\"backgroundcolor\":\"#E5ECF6\",\"gridcolor\":\"white\",\"linecolor\":\"white\",\"showbackground\":true,\"ticks\":\"\",\"zerolinecolor\":\"white\",\"gridwidth\":2},\"zaxis\":{\"backgroundcolor\":\"#E5ECF6\",\"gridcolor\":\"white\",\"linecolor\":\"white\",\"showbackground\":true,\"ticks\":\"\",\"zerolinecolor\":\"white\",\"gridwidth\":2}},\"shapedefaults\":{\"line\":{\"color\":\"#2a3f5f\"}},\"annotationdefaults\":{\"arrowcolor\":\"#2a3f5f\",\"arrowhead\":0,\"arrowwidth\":1},\"geo\":{\"bgcolor\":\"white\",\"landcolor\":\"#E5ECF6\",\"subunitcolor\":\"white\",\"showland\":true,\"showlakes\":true,\"lakecolor\":\"white\"},\"title\":{\"x\":0.05},\"mapbox\":{\"style\":\"light\"}}},\"scene\":{\"domain\":{\"x\":[0.0,1.0],\"y\":[0.0,1.0]},\"xaxis\":{\"title\":{\"text\":\"0\"}},\"yaxis\":{\"title\":{\"text\":\"1\"}},\"zaxis\":{\"title\":{\"text\":\"2\"}}},\"coloraxis\":{\"colorbar\":{\"title\":{\"text\":\"color\"}},\"colorscale\":[[0.0,\"#0d0887\"],[0.1111111111111111,\"#46039f\"],[0.2222222222222222,\"#7201a8\"],[0.3333333333333333,\"#9c179e\"],[0.4444444444444444,\"#bd3786\"],[0.5555555555555556,\"#d8576b\"],[0.6666666666666666,\"#ed7953\"],[0.7777777777777778,\"#fb9f3a\"],[0.8888888888888888,\"#fdca26\"],[1.0,\"#f0f921\"]]},\"legend\":{\"tracegroupgap\":0},\"margin\":{\"t\":60}},                        {\"responsive\": true}                    ).then(function(){\n",
              "                            \n",
              "var gd = document.getElementById('cd2571bd-9922-45a0-bf20-4b0e6769050f');\n",
              "var x = new MutationObserver(function (mutations, observer) {{\n",
              "        var display = window.getComputedStyle(gd).display;\n",
              "        if (!display || display === 'none') {{\n",
              "            console.log([gd, 'removed!']);\n",
              "            Plotly.purge(gd);\n",
              "            observer.disconnect();\n",
              "        }}\n",
              "}});\n",
              "\n",
              "// Listen for the removal of the full notebook cells\n",
              "var notebookContainer = gd.closest('#notebook-container');\n",
              "if (notebookContainer) {{\n",
              "    x.observe(notebookContainer, {childList: true});\n",
              "}}\n",
              "\n",
              "// Listen for the clearing of the current output cell\n",
              "var outputEl = gd.closest('.output');\n",
              "if (outputEl) {{\n",
              "    x.observe(outputEl, {childList: true});\n",
              "}}\n",
              "\n",
              "                        })                };                            </script>        </div>\n",
              "</body>\n",
              "</html>"
            ]
          },
          "metadata": {}
        }
      ]
    }
  ]
}