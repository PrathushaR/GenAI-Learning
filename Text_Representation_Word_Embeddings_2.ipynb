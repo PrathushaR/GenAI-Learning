{
  "nbformat": 4,
  "nbformat_minor": 0,
  "metadata": {
    "colab": {
      "provenance": [],
      "toc_visible": true,
      "mount_file_id": "1KP_rUmYZtYKO_KRTcUrtyy0dREt9E7Xc",
      "authorship_tag": "ABX9TyODJsUjhM+zEDFDaC3kZTeZ",
      "include_colab_link": true
    },
    "kernelspec": {
      "name": "python3",
      "display_name": "Python 3"
    },
    "language_info": {
      "name": "python"
    }
  },
  "cells": [
    {
      "cell_type": "markdown",
      "metadata": {
        "id": "view-in-github",
        "colab_type": "text"
      },
      "source": [
        "<a href=\"https://colab.research.google.com/github/PrathushaR/GenAI-Learning/blob/master/Text_Representation_Word_Embeddings_2.ipynb\" target=\"_parent\"><img src=\"https://colab.research.google.com/assets/colab-badge.svg\" alt=\"Open In Colab\"/></a>"
      ]
    },
    {
      "cell_type": "markdown",
      "source": [
        "## Word2vec"
      ],
      "metadata": {
        "id": "8n25Q_F_8iA1"
      }
    },
    {
      "cell_type": "code",
      "execution_count": null,
      "metadata": {
        "id": "SSVFpt1i8XVh"
      },
      "outputs": [],
      "source": [
        "# prompt: import pandas, gensim, os , numpy and upgrade gensim\n",
        "\n",
        "!pip install --upgrade gensim\n",
        "import pandas as pd\n",
        "import gensim\n",
        "import os\n",
        "import numpy as np\n",
        "# ## Word2vec"
      ]
    },
    {
      "cell_type": "code",
      "source": [
        "from nltk import sent_tokenize\n",
        "from gensim.utils import simple_preprocess\n",
        "import nltk\n",
        "nltk.download('punkt')\n",
        "nltk.download('punkt_tab')\n",
        "from gensim.models import Word2Vec"
      ],
      "metadata": {
        "colab": {
          "base_uri": "https://localhost:8080/"
        },
        "id": "QXVBA7uJ857f",
        "outputId": "5605dcba-361a-4640-c7d1-d2ce1c703583"
      },
      "execution_count": null,
      "outputs": [
        {
          "output_type": "stream",
          "name": "stderr",
          "text": [
            "[nltk_data] Downloading package punkt to /root/nltk_data...\n",
            "[nltk_data]   Unzipping tokenizers/punkt.zip.\n",
            "[nltk_data] Downloading package punkt_tab to /root/nltk_data...\n",
            "[nltk_data]   Unzipping tokenizers/punkt_tab.zip.\n"
          ]
        }
      ]
    },
    {
      "cell_type": "code",
      "source": [
        "# prompt: Read from got.txt under data folder and tokenize it with sent_tokenize\n",
        "\n",
        "# Assuming 'got.txt' is in a 'data' folder in the current working directory.\n",
        "# If the file is in a different location, adjust the path accordingly.\n",
        "data_folder = 'data'  # You may need to change this if the data folder is elsewhere\n",
        "file_path = os.path.join(data_folder, 'got.txt')\n",
        "story = []\n",
        "\n",
        "try:\n",
        "    with open(file_path, 'r', encoding='utf-8') as file:\n",
        "        text = file.read()\n",
        "        sentences = sent_tokenize(text)\n",
        "        for sentence in sentences:\n",
        "          story.append(simple_preprocess(sentence))\n",
        "\n",
        "except FileNotFoundError:\n",
        "    print(f\"Error: File '{file_path}' not found.\")\n",
        "except Exception as e:\n",
        "    print(f\"An error occurred: {e}\")"
      ],
      "metadata": {
        "id": "4t2iTp4LcHtQ"
      },
      "execution_count": null,
      "outputs": []
    },
    {
      "cell_type": "code",
      "source": [
        "story"
      ],
      "metadata": {
        "id": "SgWpn_rhkVOw"
      },
      "execution_count": null,
      "outputs": []
    },
    {
      "cell_type": "code",
      "source": [
        "len(story)"
      ],
      "metadata": {
        "colab": {
          "base_uri": "https://localhost:8080/"
        },
        "id": "vOov_doXkfpG",
        "outputId": "0fa3cde3-3eb1-4f43-d4c0-84af0499dd9a"
      },
      "execution_count": null,
      "outputs": [
        {
          "output_type": "execute_result",
          "data": {
            "text/plain": [
              "8602"
            ]
          },
          "metadata": {},
          "execution_count": 8
        }
      ]
    },
    {
      "cell_type": "code",
      "source": [
        "# prompt: Initialize gensim model\n",
        "\n",
        "model = Word2Vec(window=10, min_count=2, workers=4)\n",
        "model.build_vocab(story)\n",
        "model.train(story, total_examples=model.corpus_count, epochs=model.epochs)\n",
        "# model\n"
      ],
      "metadata": {
        "id": "DjGKRl5hkphr",
        "colab": {
          "base_uri": "https://localhost:8080/"
        },
        "outputId": "d1525bee-63c0-465a-d18b-221fde92239c"
      },
      "execution_count": null,
      "outputs": [
        {
          "output_type": "execute_result",
          "data": {
            "text/plain": [
              "(322746, 447775)"
            ]
          },
          "metadata": {},
          "execution_count": 11
        }
      ]
    },
    {
      "cell_type": "code",
      "source": [
        "model.wv.most_similar('daenerys')"
      ],
      "metadata": {
        "colab": {
          "base_uri": "https://localhost:8080/"
        },
        "id": "d0by2PGQvARz",
        "outputId": "f1663688-763f-4eec-a855-4e325885dea0"
      },
      "execution_count": null,
      "outputs": [
        {
          "output_type": "execute_result",
          "data": {
            "text/plain": [
              "[('still', 0.9990449547767639),\n",
              " ('then', 0.9989672899246216),\n",
              " ('deep', 0.9989627003669739),\n",
              " ('an', 0.998948335647583),\n",
              " ('fire', 0.9989386200904846),\n",
              " ('dothraki', 0.9989169836044312),\n",
              " ('castle', 0.9989116787910461),\n",
              " ('prince', 0.9989099502563477),\n",
              " ('while', 0.998905599117279),\n",
              " ('two', 0.9989015460014343)]"
            ]
          },
          "metadata": {},
          "execution_count": 15
        }
      ]
    },
    {
      "cell_type": "code",
      "source": [
        "model.wv.similarity('arya', 'rhaegar')"
      ],
      "metadata": {
        "colab": {
          "base_uri": "https://localhost:8080/"
        },
        "id": "PNohxs59vci5",
        "outputId": "9aca3ecf-bad8-4d0e-b15d-bb0e7ca35e9c"
      },
      "execution_count": null,
      "outputs": [
        {
          "output_type": "execute_result",
          "data": {
            "text/plain": [
              "0.99880826"
            ]
          },
          "metadata": {},
          "execution_count": 26
        }
      ]
    },
    {
      "cell_type": "code",
      "source": [
        "model.wv['deep'].shape"
      ],
      "metadata": {
        "colab": {
          "base_uri": "https://localhost:8080/"
        },
        "id": "EGwfjlYiwLY4",
        "outputId": "78eaa6cd-0991-48aa-af0b-ce3f0160112c"
      },
      "execution_count": null,
      "outputs": [
        {
          "output_type": "execute_result",
          "data": {
            "text/plain": [
              "(100,)"
            ]
          },
          "metadata": {},
          "execution_count": 27
        }
      ]
    },
    {
      "cell_type": "code",
      "source": [
        "vector = model.wv.get_normed_vectors()\n",
        "vector"
      ],
      "metadata": {
        "id": "EF7Gkor8wSOt"
      },
      "execution_count": null,
      "outputs": []
    },
    {
      "cell_type": "code",
      "source": [
        "from sklearn.decomposition import PCA\n",
        "pca = PCA(n_components=3)\n",
        "result = pca.fit_transform(vector)\n",
        "result\n",
        "result.shape"
      ],
      "metadata": {
        "colab": {
          "base_uri": "https://localhost:8080/"
        },
        "id": "2-fL81WDwyfr",
        "outputId": "1d519bce-798c-4482-ddc2-efde66030df3"
      },
      "execution_count": null,
      "outputs": [
        {
          "output_type": "execute_result",
          "data": {
            "text/plain": [
              "(3840, 3)"
            ]
          },
          "metadata": {},
          "execution_count": 31
        }
      ]
    },
    {
      "cell_type": "code",
      "source": [
        "y = model.wv.index_to_key\n"
      ],
      "metadata": {
        "id": "2Mheq_ip0LcC"
      },
      "execution_count": 39,
      "outputs": []
    },
    {
      "cell_type": "code",
      "source": [
        "import plotly.express as px\n",
        "fig = px.scatter_3d(result[100:500], x=0, y=1, z=2, color=y[100:500])\n",
        "fig.show()"
      ],
      "metadata": {
        "id": "bLFrixPNxJTV"
      },
      "execution_count": null,
      "outputs": []
    }
  ]
}